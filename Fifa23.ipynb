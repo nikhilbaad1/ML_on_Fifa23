{
  "nbformat": 4,
  "nbformat_minor": 0,
  "metadata": {
    "colab": {
      "provenance": [],
      "collapsed_sections": []
    },
    "kernelspec": {
      "name": "python3",
      "display_name": "Python 3"
    },
    "language_info": {
      "name": "python"
    }
  },
  "cells": [
    {
      "cell_type": "markdown",
      "source": [
        "## Importing Libraries"
      ],
      "metadata": {
        "id": "XmOow0Ke6Vrd"
      }
    },
    {
      "cell_type": "code",
      "source": [
        "import numpy as np\n",
        "import matplotlib.pyplot as plt\n",
        "import pandas as pd"
      ],
      "metadata": {
        "id": "AVMY0iId6X1n"
      },
      "execution_count": null,
      "outputs": []
    },
    {
      "cell_type": "markdown",
      "source": [
        "## Importing Dataset"
      ],
      "metadata": {
        "id": "iLUOsR556dOi"
      }
    },
    {
      "cell_type": "code",
      "source": [
        "fifa23 = pd.read_csv('fifa_23_main.csv')"
      ],
      "metadata": {
        "id": "ejbjhhyG6glH"
      },
      "execution_count": null,
      "outputs": []
    },
    {
      "cell_type": "markdown",
      "source": [
        "#### Renaming Columns"
      ],
      "metadata": {
        "id": "SmnbbIW16vD5"
      }
    },
    {
      "cell_type": "code",
      "source": [
        "#Renaming column from french to english\n",
        "fifa23.rename(columns = {\"Nom\":\"Name\", \"Général\":\"Overall\", \"Potentiel\":\"Potential\", \"Pays\":\"Country\", \"Bon pied\":\"Good Foot\", \n",
        "                         \"Mauvais pied\":\"Bad Foot\", \"Gestes techniques\":\"Technical Skills\", \"Taille\":\"Height\", \n",
        "                         \"Rendement offensif\":\"Offensive Spirit\", \"Rendement defensif\":\"Defensive Spirit\", \"Valeur\":\"Value\", \"Salaire\":\"Salary\",\n",
        "                         \"Centres\":\"Crosses\", \"Finition\":\"Finishing\", \"Precision tete\":\"Heading\", \"Passes courtes\":\"Short Passes\", \n",
        "                         \"Volee\":\"Voleys\", \"Effet\":\"Effect\", \"PCF\":\"Free-Kick Precision\", \"Passes longues\":\"Long Passes\", \n",
        "                         \"Controle\":\"Ball Control\", \"Vitesse\":\"Speed\", \"Agilite\":\"Agility\", \"Reactivite\":\"Reactivity\", \"Equilibre\":\"Balance\", \n",
        "                         \"Puissance frappe\": \"Shoot Power\", \"Detente\":\"Jumping\", \"Endurance\":\"Stamina\", \"Force\":\"Strength\", \n",
        "                         \"Tirs de loin\":\"Long Shoots\", \"Agressivite\":\"Agressivity\", \"Placement\":\"Offensive Positioning\",\n",
        "                         \"Calme\":\"Composure\", \"Conscience defensive\":\"Defensive Consciousness\", \"Tacle debout\":\"Standing Tackle\",\n",
        "                         \"Tacle glisse\":\"Sliding Tackle\", \"Plongeon\":\"GK Diving\", \"Jeu main\":\"GK Hand Game\", \"Jeu pied\":\"GK Foot Game\",\n",
        "                         \"Placement.1\":\"GK Positioning\", \"Reflexes\":\"Gk Reflexes\"}, inplace = True)"
      ],
      "metadata": {
        "id": "uiS1YIPj6yZg"
      },
      "execution_count": null,
      "outputs": []
    },
    {
      "cell_type": "code",
      "source": [
        "fifa23.head()"
      ],
      "metadata": {
        "colab": {
          "base_uri": "https://localhost:8080/",
          "height": 421
        },
        "id": "pMzCnIt1BKnr",
        "outputId": "410f9fa4-61b3-4129-e6c4-62408bc7cfc7"
      },
      "execution_count": null,
      "outputs": [
        {
          "output_type": "execute_result",
          "data": {
            "text/plain": [
              "             Name  Overall  Potential  Performance    Country  \\\n",
              "0       K. Mbappé       91         95         93.0     France   \n",
              "1  R. Lewandowski       91         91         91.0     Poland   \n",
              "2      K. Benzema       91         91         91.0     France   \n",
              "3        L. Messi       91         91         91.0  Argentina   \n",
              "4    K. De Bruyne       91         91         91.0    Belgium   \n",
              "\n",
              "                  Club Good Foot  Bad Foot  Technical Skills  Height  ...  \\\n",
              "0  Paris Saint-Germain     Right         4                 5     182  ...   \n",
              "1         FC Barcelona     Right         4                 4     185  ...   \n",
              "2       Real Madrid CF     Right         4                 4     185  ...   \n",
              "3  Paris Saint-Germain      Left         4                 4     169  ...   \n",
              "4      Manchester City     Right         5                 4     181  ...   \n",
              "\n",
              "  Penalty Composure Defensive Consciousness Standing Tackle  Sliding Tackle  \\\n",
              "0      80        88                      26              34              32   \n",
              "1      90        88                      35              42              19   \n",
              "2      84        90                      43              24              18   \n",
              "3      75        96                      20              35              24   \n",
              "4      83        89                      68              65              53   \n",
              "\n",
              "   GK Diving  GK Hand Game  GK Foot Game  GK Positioning  Gk Reflexes  \n",
              "0         13             5             7              11            6  \n",
              "1         15             6            12               8           10  \n",
              "2         13            11             5               5            7  \n",
              "3          6            11            15              14            8  \n",
              "4         15            13             5              10           13  \n",
              "\n",
              "[5 rows x 49 columns]"
            ],
            "text/html": [
              "\n",
              "  <div id=\"df-4d802717-ce16-4a73-b209-2506b4af7124\">\n",
              "    <div class=\"colab-df-container\">\n",
              "      <div>\n",
              "<style scoped>\n",
              "    .dataframe tbody tr th:only-of-type {\n",
              "        vertical-align: middle;\n",
              "    }\n",
              "\n",
              "    .dataframe tbody tr th {\n",
              "        vertical-align: top;\n",
              "    }\n",
              "\n",
              "    .dataframe thead th {\n",
              "        text-align: right;\n",
              "    }\n",
              "</style>\n",
              "<table border=\"1\" class=\"dataframe\">\n",
              "  <thead>\n",
              "    <tr style=\"text-align: right;\">\n",
              "      <th></th>\n",
              "      <th>Name</th>\n",
              "      <th>Overall</th>\n",
              "      <th>Potential</th>\n",
              "      <th>Performance</th>\n",
              "      <th>Country</th>\n",
              "      <th>Club</th>\n",
              "      <th>Good Foot</th>\n",
              "      <th>Bad Foot</th>\n",
              "      <th>Technical Skills</th>\n",
              "      <th>Height</th>\n",
              "      <th>...</th>\n",
              "      <th>Penalty</th>\n",
              "      <th>Composure</th>\n",
              "      <th>Defensive Consciousness</th>\n",
              "      <th>Standing Tackle</th>\n",
              "      <th>Sliding Tackle</th>\n",
              "      <th>GK Diving</th>\n",
              "      <th>GK Hand Game</th>\n",
              "      <th>GK Foot Game</th>\n",
              "      <th>GK Positioning</th>\n",
              "      <th>Gk Reflexes</th>\n",
              "    </tr>\n",
              "  </thead>\n",
              "  <tbody>\n",
              "    <tr>\n",
              "      <th>0</th>\n",
              "      <td>K. Mbappé</td>\n",
              "      <td>91</td>\n",
              "      <td>95</td>\n",
              "      <td>93.0</td>\n",
              "      <td>France</td>\n",
              "      <td>Paris Saint-Germain</td>\n",
              "      <td>Right</td>\n",
              "      <td>4</td>\n",
              "      <td>5</td>\n",
              "      <td>182</td>\n",
              "      <td>...</td>\n",
              "      <td>80</td>\n",
              "      <td>88</td>\n",
              "      <td>26</td>\n",
              "      <td>34</td>\n",
              "      <td>32</td>\n",
              "      <td>13</td>\n",
              "      <td>5</td>\n",
              "      <td>7</td>\n",
              "      <td>11</td>\n",
              "      <td>6</td>\n",
              "    </tr>\n",
              "    <tr>\n",
              "      <th>1</th>\n",
              "      <td>R. Lewandowski</td>\n",
              "      <td>91</td>\n",
              "      <td>91</td>\n",
              "      <td>91.0</td>\n",
              "      <td>Poland</td>\n",
              "      <td>FC Barcelona</td>\n",
              "      <td>Right</td>\n",
              "      <td>4</td>\n",
              "      <td>4</td>\n",
              "      <td>185</td>\n",
              "      <td>...</td>\n",
              "      <td>90</td>\n",
              "      <td>88</td>\n",
              "      <td>35</td>\n",
              "      <td>42</td>\n",
              "      <td>19</td>\n",
              "      <td>15</td>\n",
              "      <td>6</td>\n",
              "      <td>12</td>\n",
              "      <td>8</td>\n",
              "      <td>10</td>\n",
              "    </tr>\n",
              "    <tr>\n",
              "      <th>2</th>\n",
              "      <td>K. Benzema</td>\n",
              "      <td>91</td>\n",
              "      <td>91</td>\n",
              "      <td>91.0</td>\n",
              "      <td>France</td>\n",
              "      <td>Real Madrid CF</td>\n",
              "      <td>Right</td>\n",
              "      <td>4</td>\n",
              "      <td>4</td>\n",
              "      <td>185</td>\n",
              "      <td>...</td>\n",
              "      <td>84</td>\n",
              "      <td>90</td>\n",
              "      <td>43</td>\n",
              "      <td>24</td>\n",
              "      <td>18</td>\n",
              "      <td>13</td>\n",
              "      <td>11</td>\n",
              "      <td>5</td>\n",
              "      <td>5</td>\n",
              "      <td>7</td>\n",
              "    </tr>\n",
              "    <tr>\n",
              "      <th>3</th>\n",
              "      <td>L. Messi</td>\n",
              "      <td>91</td>\n",
              "      <td>91</td>\n",
              "      <td>91.0</td>\n",
              "      <td>Argentina</td>\n",
              "      <td>Paris Saint-Germain</td>\n",
              "      <td>Left</td>\n",
              "      <td>4</td>\n",
              "      <td>4</td>\n",
              "      <td>169</td>\n",
              "      <td>...</td>\n",
              "      <td>75</td>\n",
              "      <td>96</td>\n",
              "      <td>20</td>\n",
              "      <td>35</td>\n",
              "      <td>24</td>\n",
              "      <td>6</td>\n",
              "      <td>11</td>\n",
              "      <td>15</td>\n",
              "      <td>14</td>\n",
              "      <td>8</td>\n",
              "    </tr>\n",
              "    <tr>\n",
              "      <th>4</th>\n",
              "      <td>K. De Bruyne</td>\n",
              "      <td>91</td>\n",
              "      <td>91</td>\n",
              "      <td>91.0</td>\n",
              "      <td>Belgium</td>\n",
              "      <td>Manchester City</td>\n",
              "      <td>Right</td>\n",
              "      <td>5</td>\n",
              "      <td>4</td>\n",
              "      <td>181</td>\n",
              "      <td>...</td>\n",
              "      <td>83</td>\n",
              "      <td>89</td>\n",
              "      <td>68</td>\n",
              "      <td>65</td>\n",
              "      <td>53</td>\n",
              "      <td>15</td>\n",
              "      <td>13</td>\n",
              "      <td>5</td>\n",
              "      <td>10</td>\n",
              "      <td>13</td>\n",
              "    </tr>\n",
              "  </tbody>\n",
              "</table>\n",
              "<p>5 rows × 49 columns</p>\n",
              "</div>\n",
              "      <button class=\"colab-df-convert\" onclick=\"convertToInteractive('df-4d802717-ce16-4a73-b209-2506b4af7124')\"\n",
              "              title=\"Convert this dataframe to an interactive table.\"\n",
              "              style=\"display:none;\">\n",
              "        \n",
              "  <svg xmlns=\"http://www.w3.org/2000/svg\" height=\"24px\"viewBox=\"0 0 24 24\"\n",
              "       width=\"24px\">\n",
              "    <path d=\"M0 0h24v24H0V0z\" fill=\"none\"/>\n",
              "    <path d=\"M18.56 5.44l.94 2.06.94-2.06 2.06-.94-2.06-.94-.94-2.06-.94 2.06-2.06.94zm-11 1L8.5 8.5l.94-2.06 2.06-.94-2.06-.94L8.5 2.5l-.94 2.06-2.06.94zm10 10l.94 2.06.94-2.06 2.06-.94-2.06-.94-.94-2.06-.94 2.06-2.06.94z\"/><path d=\"M17.41 7.96l-1.37-1.37c-.4-.4-.92-.59-1.43-.59-.52 0-1.04.2-1.43.59L10.3 9.45l-7.72 7.72c-.78.78-.78 2.05 0 2.83L4 21.41c.39.39.9.59 1.41.59.51 0 1.02-.2 1.41-.59l7.78-7.78 2.81-2.81c.8-.78.8-2.07 0-2.86zM5.41 20L4 18.59l7.72-7.72 1.47 1.35L5.41 20z\"/>\n",
              "  </svg>\n",
              "      </button>\n",
              "      \n",
              "  <style>\n",
              "    .colab-df-container {\n",
              "      display:flex;\n",
              "      flex-wrap:wrap;\n",
              "      gap: 12px;\n",
              "    }\n",
              "\n",
              "    .colab-df-convert {\n",
              "      background-color: #E8F0FE;\n",
              "      border: none;\n",
              "      border-radius: 50%;\n",
              "      cursor: pointer;\n",
              "      display: none;\n",
              "      fill: #1967D2;\n",
              "      height: 32px;\n",
              "      padding: 0 0 0 0;\n",
              "      width: 32px;\n",
              "    }\n",
              "\n",
              "    .colab-df-convert:hover {\n",
              "      background-color: #E2EBFA;\n",
              "      box-shadow: 0px 1px 2px rgba(60, 64, 67, 0.3), 0px 1px 3px 1px rgba(60, 64, 67, 0.15);\n",
              "      fill: #174EA6;\n",
              "    }\n",
              "\n",
              "    [theme=dark] .colab-df-convert {\n",
              "      background-color: #3B4455;\n",
              "      fill: #D2E3FC;\n",
              "    }\n",
              "\n",
              "    [theme=dark] .colab-df-convert:hover {\n",
              "      background-color: #434B5C;\n",
              "      box-shadow: 0px 1px 3px 1px rgba(0, 0, 0, 0.15);\n",
              "      filter: drop-shadow(0px 1px 2px rgba(0, 0, 0, 0.3));\n",
              "      fill: #FFFFFF;\n",
              "    }\n",
              "  </style>\n",
              "\n",
              "      <script>\n",
              "        const buttonEl =\n",
              "          document.querySelector('#df-4d802717-ce16-4a73-b209-2506b4af7124 button.colab-df-convert');\n",
              "        buttonEl.style.display =\n",
              "          google.colab.kernel.accessAllowed ? 'block' : 'none';\n",
              "\n",
              "        async function convertToInteractive(key) {\n",
              "          const element = document.querySelector('#df-4d802717-ce16-4a73-b209-2506b4af7124');\n",
              "          const dataTable =\n",
              "            await google.colab.kernel.invokeFunction('convertToInteractive',\n",
              "                                                     [key], {});\n",
              "          if (!dataTable) return;\n",
              "\n",
              "          const docLinkHtml = 'Like what you see? Visit the ' +\n",
              "            '<a target=\"_blank\" href=https://colab.research.google.com/notebooks/data_table.ipynb>data table notebook</a>'\n",
              "            + ' to learn more about interactive tables.';\n",
              "          element.innerHTML = '';\n",
              "          dataTable['output_type'] = 'display_data';\n",
              "          await google.colab.output.renderOutput(dataTable, element);\n",
              "          const docLink = document.createElement('div');\n",
              "          docLink.innerHTML = docLinkHtml;\n",
              "          element.appendChild(docLink);\n",
              "        }\n",
              "      </script>\n",
              "    </div>\n",
              "  </div>\n",
              "  "
            ]
          },
          "metadata": {},
          "execution_count": 4
        }
      ]
    },
    {
      "cell_type": "markdown",
      "source": [
        "## Checking for missing Values in columns"
      ],
      "metadata": {
        "id": "Mz4I43AAB4Qh"
      }
    },
    {
      "cell_type": "code",
      "source": [
        "fifa23.isna().sum() #There are no missing values in the dataset"
      ],
      "metadata": {
        "colab": {
          "base_uri": "https://localhost:8080/"
        },
        "id": "Ee95Vz3zCI5Z",
        "outputId": "b3cd94b8-e2f5-43b5-d9a5-3ca3104a1534"
      },
      "execution_count": null,
      "outputs": [
        {
          "output_type": "execute_result",
          "data": {
            "text/plain": [
              "Name                       0\n",
              "Overall                    0\n",
              "Potential                  0\n",
              "Performance                0\n",
              "Country                    0\n",
              "Club                       0\n",
              "Good Foot                  0\n",
              "Bad Foot                   0\n",
              "Technical Skills           0\n",
              "Height                     0\n",
              "Offensive Spirit           0\n",
              "Defensive Spirit           0\n",
              "Value                      0\n",
              "Salary                     0\n",
              "Id                         0\n",
              "Crosses                    0\n",
              "Finishing                  0\n",
              "Heading                    0\n",
              "Short Passes               0\n",
              "Voleys                     0\n",
              "Dribbles                   0\n",
              "Effect                     0\n",
              "Free-Kick Precision        0\n",
              "Long Passes                0\n",
              "Ball Control               0\n",
              "Acceleration               0\n",
              "Speed                      0\n",
              "Agility                    0\n",
              "Reactivity                 0\n",
              "Balance                    0\n",
              "Shoot Power                0\n",
              "Jumping                    0\n",
              "Stamina                    0\n",
              "Strength                   0\n",
              "Long Shoots                0\n",
              "Agressivity                0\n",
              "Interceptions              0\n",
              "Offensive Positioning      0\n",
              "Vista                      0\n",
              "Penalty                    0\n",
              "Composure                  0\n",
              "Defensive Consciousness    0\n",
              "Standing Tackle            0\n",
              "Sliding Tackle             0\n",
              "GK Diving                  0\n",
              "GK Hand Game               0\n",
              "GK Foot Game               0\n",
              "GK Positioning             0\n",
              "Gk Reflexes                0\n",
              "dtype: int64"
            ]
          },
          "metadata": {},
          "execution_count": 5
        }
      ]
    },
    {
      "cell_type": "markdown",
      "source": [
        "## Droping unrelated Column(Feature Selection)"
      ],
      "metadata": {
        "id": "-jx6fU47Bpc9"
      }
    },
    {
      "cell_type": "code",
      "source": [
        "#Name, Id, Salary, Value, Id, Country, Club, Overall, Good foot, Bad foot will not help for performance predicion\n",
        "#There is already a feature Heading which will cover Height feature.Hence, dropping height from feature\n",
        "fifa23 = fifa23.drop(['Name', 'Overall', 'Potential', 'Club', 'Height', 'Country', 'Good Foot', 'Good Foot', 'Salary', 'Value', 'Id'], axis=1)"
      ],
      "metadata": {
        "id": "sC_Omp5YBiI3"
      },
      "execution_count": null,
      "outputs": []
    },
    {
      "cell_type": "code",
      "source": [
        "fifa23.head()"
      ],
      "metadata": {
        "colab": {
          "base_uri": "https://localhost:8080/",
          "height": 334
        },
        "id": "Ro1rA41ZDx8b",
        "outputId": "d2cdbae1-6e38-49f8-ea6a-77abd0c0a998"
      },
      "execution_count": null,
      "outputs": [
        {
          "output_type": "execute_result",
          "data": {
            "text/plain": [
              "   Performance  Bad Foot  Technical Skills Offensive Spirit Defensive Spirit  \\\n",
              "0         93.0         4                 5             High              Low   \n",
              "1         91.0         4                 4             High           Medium   \n",
              "2         91.0         4                 4           Medium           Medium   \n",
              "3         91.0         4                 4              Low              Low   \n",
              "4         91.0         5                 4             High             High   \n",
              "\n",
              "   Crosses  Finishing  Heading  Short Passes  Voleys  ...  Penalty  Composure  \\\n",
              "0       78         93       72            85      83  ...       80         88   \n",
              "1       71         94       91            84      89  ...       90         88   \n",
              "2       75         92       90            89      88  ...       84         90   \n",
              "3       84         90       70            91      88  ...       75         96   \n",
              "4       94         85       55            93      83  ...       83         89   \n",
              "\n",
              "   Defensive Consciousness  Standing Tackle  Sliding Tackle  GK Diving  \\\n",
              "0                       26               34              32         13   \n",
              "1                       35               42              19         15   \n",
              "2                       43               24              18         13   \n",
              "3                       20               35              24          6   \n",
              "4                       68               65              53         15   \n",
              "\n",
              "   GK Hand Game  GK Foot Game  GK Positioning  Gk Reflexes  \n",
              "0             5             7              11            6  \n",
              "1             6            12               8           10  \n",
              "2            11             5               5            7  \n",
              "3            11            15              14            8  \n",
              "4            13             5              10           13  \n",
              "\n",
              "[5 rows x 39 columns]"
            ],
            "text/html": [
              "\n",
              "  <div id=\"df-6a90e76e-c195-44ef-a83e-735f8f5fa0ed\">\n",
              "    <div class=\"colab-df-container\">\n",
              "      <div>\n",
              "<style scoped>\n",
              "    .dataframe tbody tr th:only-of-type {\n",
              "        vertical-align: middle;\n",
              "    }\n",
              "\n",
              "    .dataframe tbody tr th {\n",
              "        vertical-align: top;\n",
              "    }\n",
              "\n",
              "    .dataframe thead th {\n",
              "        text-align: right;\n",
              "    }\n",
              "</style>\n",
              "<table border=\"1\" class=\"dataframe\">\n",
              "  <thead>\n",
              "    <tr style=\"text-align: right;\">\n",
              "      <th></th>\n",
              "      <th>Performance</th>\n",
              "      <th>Bad Foot</th>\n",
              "      <th>Technical Skills</th>\n",
              "      <th>Offensive Spirit</th>\n",
              "      <th>Defensive Spirit</th>\n",
              "      <th>Crosses</th>\n",
              "      <th>Finishing</th>\n",
              "      <th>Heading</th>\n",
              "      <th>Short Passes</th>\n",
              "      <th>Voleys</th>\n",
              "      <th>...</th>\n",
              "      <th>Penalty</th>\n",
              "      <th>Composure</th>\n",
              "      <th>Defensive Consciousness</th>\n",
              "      <th>Standing Tackle</th>\n",
              "      <th>Sliding Tackle</th>\n",
              "      <th>GK Diving</th>\n",
              "      <th>GK Hand Game</th>\n",
              "      <th>GK Foot Game</th>\n",
              "      <th>GK Positioning</th>\n",
              "      <th>Gk Reflexes</th>\n",
              "    </tr>\n",
              "  </thead>\n",
              "  <tbody>\n",
              "    <tr>\n",
              "      <th>0</th>\n",
              "      <td>93.0</td>\n",
              "      <td>4</td>\n",
              "      <td>5</td>\n",
              "      <td>High</td>\n",
              "      <td>Low</td>\n",
              "      <td>78</td>\n",
              "      <td>93</td>\n",
              "      <td>72</td>\n",
              "      <td>85</td>\n",
              "      <td>83</td>\n",
              "      <td>...</td>\n",
              "      <td>80</td>\n",
              "      <td>88</td>\n",
              "      <td>26</td>\n",
              "      <td>34</td>\n",
              "      <td>32</td>\n",
              "      <td>13</td>\n",
              "      <td>5</td>\n",
              "      <td>7</td>\n",
              "      <td>11</td>\n",
              "      <td>6</td>\n",
              "    </tr>\n",
              "    <tr>\n",
              "      <th>1</th>\n",
              "      <td>91.0</td>\n",
              "      <td>4</td>\n",
              "      <td>4</td>\n",
              "      <td>High</td>\n",
              "      <td>Medium</td>\n",
              "      <td>71</td>\n",
              "      <td>94</td>\n",
              "      <td>91</td>\n",
              "      <td>84</td>\n",
              "      <td>89</td>\n",
              "      <td>...</td>\n",
              "      <td>90</td>\n",
              "      <td>88</td>\n",
              "      <td>35</td>\n",
              "      <td>42</td>\n",
              "      <td>19</td>\n",
              "      <td>15</td>\n",
              "      <td>6</td>\n",
              "      <td>12</td>\n",
              "      <td>8</td>\n",
              "      <td>10</td>\n",
              "    </tr>\n",
              "    <tr>\n",
              "      <th>2</th>\n",
              "      <td>91.0</td>\n",
              "      <td>4</td>\n",
              "      <td>4</td>\n",
              "      <td>Medium</td>\n",
              "      <td>Medium</td>\n",
              "      <td>75</td>\n",
              "      <td>92</td>\n",
              "      <td>90</td>\n",
              "      <td>89</td>\n",
              "      <td>88</td>\n",
              "      <td>...</td>\n",
              "      <td>84</td>\n",
              "      <td>90</td>\n",
              "      <td>43</td>\n",
              "      <td>24</td>\n",
              "      <td>18</td>\n",
              "      <td>13</td>\n",
              "      <td>11</td>\n",
              "      <td>5</td>\n",
              "      <td>5</td>\n",
              "      <td>7</td>\n",
              "    </tr>\n",
              "    <tr>\n",
              "      <th>3</th>\n",
              "      <td>91.0</td>\n",
              "      <td>4</td>\n",
              "      <td>4</td>\n",
              "      <td>Low</td>\n",
              "      <td>Low</td>\n",
              "      <td>84</td>\n",
              "      <td>90</td>\n",
              "      <td>70</td>\n",
              "      <td>91</td>\n",
              "      <td>88</td>\n",
              "      <td>...</td>\n",
              "      <td>75</td>\n",
              "      <td>96</td>\n",
              "      <td>20</td>\n",
              "      <td>35</td>\n",
              "      <td>24</td>\n",
              "      <td>6</td>\n",
              "      <td>11</td>\n",
              "      <td>15</td>\n",
              "      <td>14</td>\n",
              "      <td>8</td>\n",
              "    </tr>\n",
              "    <tr>\n",
              "      <th>4</th>\n",
              "      <td>91.0</td>\n",
              "      <td>5</td>\n",
              "      <td>4</td>\n",
              "      <td>High</td>\n",
              "      <td>High</td>\n",
              "      <td>94</td>\n",
              "      <td>85</td>\n",
              "      <td>55</td>\n",
              "      <td>93</td>\n",
              "      <td>83</td>\n",
              "      <td>...</td>\n",
              "      <td>83</td>\n",
              "      <td>89</td>\n",
              "      <td>68</td>\n",
              "      <td>65</td>\n",
              "      <td>53</td>\n",
              "      <td>15</td>\n",
              "      <td>13</td>\n",
              "      <td>5</td>\n",
              "      <td>10</td>\n",
              "      <td>13</td>\n",
              "    </tr>\n",
              "  </tbody>\n",
              "</table>\n",
              "<p>5 rows × 39 columns</p>\n",
              "</div>\n",
              "      <button class=\"colab-df-convert\" onclick=\"convertToInteractive('df-6a90e76e-c195-44ef-a83e-735f8f5fa0ed')\"\n",
              "              title=\"Convert this dataframe to an interactive table.\"\n",
              "              style=\"display:none;\">\n",
              "        \n",
              "  <svg xmlns=\"http://www.w3.org/2000/svg\" height=\"24px\"viewBox=\"0 0 24 24\"\n",
              "       width=\"24px\">\n",
              "    <path d=\"M0 0h24v24H0V0z\" fill=\"none\"/>\n",
              "    <path d=\"M18.56 5.44l.94 2.06.94-2.06 2.06-.94-2.06-.94-.94-2.06-.94 2.06-2.06.94zm-11 1L8.5 8.5l.94-2.06 2.06-.94-2.06-.94L8.5 2.5l-.94 2.06-2.06.94zm10 10l.94 2.06.94-2.06 2.06-.94-2.06-.94-.94-2.06-.94 2.06-2.06.94z\"/><path d=\"M17.41 7.96l-1.37-1.37c-.4-.4-.92-.59-1.43-.59-.52 0-1.04.2-1.43.59L10.3 9.45l-7.72 7.72c-.78.78-.78 2.05 0 2.83L4 21.41c.39.39.9.59 1.41.59.51 0 1.02-.2 1.41-.59l7.78-7.78 2.81-2.81c.8-.78.8-2.07 0-2.86zM5.41 20L4 18.59l7.72-7.72 1.47 1.35L5.41 20z\"/>\n",
              "  </svg>\n",
              "      </button>\n",
              "      \n",
              "  <style>\n",
              "    .colab-df-container {\n",
              "      display:flex;\n",
              "      flex-wrap:wrap;\n",
              "      gap: 12px;\n",
              "    }\n",
              "\n",
              "    .colab-df-convert {\n",
              "      background-color: #E8F0FE;\n",
              "      border: none;\n",
              "      border-radius: 50%;\n",
              "      cursor: pointer;\n",
              "      display: none;\n",
              "      fill: #1967D2;\n",
              "      height: 32px;\n",
              "      padding: 0 0 0 0;\n",
              "      width: 32px;\n",
              "    }\n",
              "\n",
              "    .colab-df-convert:hover {\n",
              "      background-color: #E2EBFA;\n",
              "      box-shadow: 0px 1px 2px rgba(60, 64, 67, 0.3), 0px 1px 3px 1px rgba(60, 64, 67, 0.15);\n",
              "      fill: #174EA6;\n",
              "    }\n",
              "\n",
              "    [theme=dark] .colab-df-convert {\n",
              "      background-color: #3B4455;\n",
              "      fill: #D2E3FC;\n",
              "    }\n",
              "\n",
              "    [theme=dark] .colab-df-convert:hover {\n",
              "      background-color: #434B5C;\n",
              "      box-shadow: 0px 1px 3px 1px rgba(0, 0, 0, 0.15);\n",
              "      filter: drop-shadow(0px 1px 2px rgba(0, 0, 0, 0.3));\n",
              "      fill: #FFFFFF;\n",
              "    }\n",
              "  </style>\n",
              "\n",
              "      <script>\n",
              "        const buttonEl =\n",
              "          document.querySelector('#df-6a90e76e-c195-44ef-a83e-735f8f5fa0ed button.colab-df-convert');\n",
              "        buttonEl.style.display =\n",
              "          google.colab.kernel.accessAllowed ? 'block' : 'none';\n",
              "\n",
              "        async function convertToInteractive(key) {\n",
              "          const element = document.querySelector('#df-6a90e76e-c195-44ef-a83e-735f8f5fa0ed');\n",
              "          const dataTable =\n",
              "            await google.colab.kernel.invokeFunction('convertToInteractive',\n",
              "                                                     [key], {});\n",
              "          if (!dataTable) return;\n",
              "\n",
              "          const docLinkHtml = 'Like what you see? Visit the ' +\n",
              "            '<a target=\"_blank\" href=https://colab.research.google.com/notebooks/data_table.ipynb>data table notebook</a>'\n",
              "            + ' to learn more about interactive tables.';\n",
              "          element.innerHTML = '';\n",
              "          dataTable['output_type'] = 'display_data';\n",
              "          await google.colab.output.renderOutput(dataTable, element);\n",
              "          const docLink = document.createElement('div');\n",
              "          docLink.innerHTML = docLinkHtml;\n",
              "          element.appendChild(docLink);\n",
              "        }\n",
              "      </script>\n",
              "    </div>\n",
              "  </div>\n",
              "  "
            ]
          },
          "metadata": {},
          "execution_count": 7
        }
      ]
    },
    {
      "cell_type": "markdown",
      "source": [
        "## Seperating Features and target"
      ],
      "metadata": {
        "id": "ulBTGvkuEZxW"
      }
    },
    {
      "cell_type": "code",
      "source": [
        "X = fifa23.iloc[:,1:-1]\n",
        "y = fifa23.iloc[:, 0:1] #Performance is target"
      ],
      "metadata": {
        "id": "yS8JMSwHEia1"
      },
      "execution_count": null,
      "outputs": []
    },
    {
      "cell_type": "markdown",
      "source": [
        "## Encoding Ordinal Column"
      ],
      "metadata": {
        "id": "EM9JDYK_DvkM"
      }
    },
    {
      "cell_type": "code",
      "source": [
        "#Offensive Spirit and Defensive sipirt are ordinal columns\n",
        "from sklearn.preprocessing import OrdinalEncoder\n",
        "enc = OrdinalEncoder()\n",
        "enc.fit(X.iloc[:, 2:4])\n",
        "X.iloc[:, 2:4] = enc.transform(X.iloc[:, 2:4])"
      ],
      "metadata": {
        "id": "tjC652WZDij3"
      },
      "execution_count": null,
      "outputs": []
    },
    {
      "cell_type": "code",
      "source": [
        "X.head()"
      ],
      "metadata": {
        "colab": {
          "base_uri": "https://localhost:8080/",
          "height": 334
        },
        "id": "OujkpeE2EyIK",
        "outputId": "35c77d1f-4f87-4329-a8a2-b95dafda6353"
      },
      "execution_count": null,
      "outputs": [
        {
          "output_type": "execute_result",
          "data": {
            "text/plain": [
              "   Bad Foot  Technical Skills  Offensive Spirit  Defensive Spirit  Crosses  \\\n",
              "0         4                 5               0.0               1.0       78   \n",
              "1         4                 4               0.0               2.0       71   \n",
              "2         4                 4               2.0               2.0       75   \n",
              "3         4                 4               1.0               1.0       84   \n",
              "4         5                 4               0.0               0.0       94   \n",
              "\n",
              "   Finishing  Heading  Short Passes  Voleys  Dribbles  ...  Vista  Penalty  \\\n",
              "0         93       72            85      83        93  ...     83       80   \n",
              "1         94       91            84      89        85  ...     81       90   \n",
              "2         92       90            89      88        87  ...     89       84   \n",
              "3         90       70            91      88        95  ...     94       75   \n",
              "4         85       55            93      83        88  ...     94       83   \n",
              "\n",
              "   Composure  Defensive Consciousness  Standing Tackle  Sliding Tackle  \\\n",
              "0         88                       26               34              32   \n",
              "1         88                       35               42              19   \n",
              "2         90                       43               24              18   \n",
              "3         96                       20               35              24   \n",
              "4         89                       68               65              53   \n",
              "\n",
              "   GK Diving  GK Hand Game  GK Foot Game  GK Positioning  \n",
              "0         13             5             7              11  \n",
              "1         15             6            12               8  \n",
              "2         13            11             5               5  \n",
              "3          6            11            15              14  \n",
              "4         15            13             5              10  \n",
              "\n",
              "[5 rows x 37 columns]"
            ],
            "text/html": [
              "\n",
              "  <div id=\"df-6e96ff37-92b7-47a9-ad10-7a624a2c7973\">\n",
              "    <div class=\"colab-df-container\">\n",
              "      <div>\n",
              "<style scoped>\n",
              "    .dataframe tbody tr th:only-of-type {\n",
              "        vertical-align: middle;\n",
              "    }\n",
              "\n",
              "    .dataframe tbody tr th {\n",
              "        vertical-align: top;\n",
              "    }\n",
              "\n",
              "    .dataframe thead th {\n",
              "        text-align: right;\n",
              "    }\n",
              "</style>\n",
              "<table border=\"1\" class=\"dataframe\">\n",
              "  <thead>\n",
              "    <tr style=\"text-align: right;\">\n",
              "      <th></th>\n",
              "      <th>Bad Foot</th>\n",
              "      <th>Technical Skills</th>\n",
              "      <th>Offensive Spirit</th>\n",
              "      <th>Defensive Spirit</th>\n",
              "      <th>Crosses</th>\n",
              "      <th>Finishing</th>\n",
              "      <th>Heading</th>\n",
              "      <th>Short Passes</th>\n",
              "      <th>Voleys</th>\n",
              "      <th>Dribbles</th>\n",
              "      <th>...</th>\n",
              "      <th>Vista</th>\n",
              "      <th>Penalty</th>\n",
              "      <th>Composure</th>\n",
              "      <th>Defensive Consciousness</th>\n",
              "      <th>Standing Tackle</th>\n",
              "      <th>Sliding Tackle</th>\n",
              "      <th>GK Diving</th>\n",
              "      <th>GK Hand Game</th>\n",
              "      <th>GK Foot Game</th>\n",
              "      <th>GK Positioning</th>\n",
              "    </tr>\n",
              "  </thead>\n",
              "  <tbody>\n",
              "    <tr>\n",
              "      <th>0</th>\n",
              "      <td>4</td>\n",
              "      <td>5</td>\n",
              "      <td>0.0</td>\n",
              "      <td>1.0</td>\n",
              "      <td>78</td>\n",
              "      <td>93</td>\n",
              "      <td>72</td>\n",
              "      <td>85</td>\n",
              "      <td>83</td>\n",
              "      <td>93</td>\n",
              "      <td>...</td>\n",
              "      <td>83</td>\n",
              "      <td>80</td>\n",
              "      <td>88</td>\n",
              "      <td>26</td>\n",
              "      <td>34</td>\n",
              "      <td>32</td>\n",
              "      <td>13</td>\n",
              "      <td>5</td>\n",
              "      <td>7</td>\n",
              "      <td>11</td>\n",
              "    </tr>\n",
              "    <tr>\n",
              "      <th>1</th>\n",
              "      <td>4</td>\n",
              "      <td>4</td>\n",
              "      <td>0.0</td>\n",
              "      <td>2.0</td>\n",
              "      <td>71</td>\n",
              "      <td>94</td>\n",
              "      <td>91</td>\n",
              "      <td>84</td>\n",
              "      <td>89</td>\n",
              "      <td>85</td>\n",
              "      <td>...</td>\n",
              "      <td>81</td>\n",
              "      <td>90</td>\n",
              "      <td>88</td>\n",
              "      <td>35</td>\n",
              "      <td>42</td>\n",
              "      <td>19</td>\n",
              "      <td>15</td>\n",
              "      <td>6</td>\n",
              "      <td>12</td>\n",
              "      <td>8</td>\n",
              "    </tr>\n",
              "    <tr>\n",
              "      <th>2</th>\n",
              "      <td>4</td>\n",
              "      <td>4</td>\n",
              "      <td>2.0</td>\n",
              "      <td>2.0</td>\n",
              "      <td>75</td>\n",
              "      <td>92</td>\n",
              "      <td>90</td>\n",
              "      <td>89</td>\n",
              "      <td>88</td>\n",
              "      <td>87</td>\n",
              "      <td>...</td>\n",
              "      <td>89</td>\n",
              "      <td>84</td>\n",
              "      <td>90</td>\n",
              "      <td>43</td>\n",
              "      <td>24</td>\n",
              "      <td>18</td>\n",
              "      <td>13</td>\n",
              "      <td>11</td>\n",
              "      <td>5</td>\n",
              "      <td>5</td>\n",
              "    </tr>\n",
              "    <tr>\n",
              "      <th>3</th>\n",
              "      <td>4</td>\n",
              "      <td>4</td>\n",
              "      <td>1.0</td>\n",
              "      <td>1.0</td>\n",
              "      <td>84</td>\n",
              "      <td>90</td>\n",
              "      <td>70</td>\n",
              "      <td>91</td>\n",
              "      <td>88</td>\n",
              "      <td>95</td>\n",
              "      <td>...</td>\n",
              "      <td>94</td>\n",
              "      <td>75</td>\n",
              "      <td>96</td>\n",
              "      <td>20</td>\n",
              "      <td>35</td>\n",
              "      <td>24</td>\n",
              "      <td>6</td>\n",
              "      <td>11</td>\n",
              "      <td>15</td>\n",
              "      <td>14</td>\n",
              "    </tr>\n",
              "    <tr>\n",
              "      <th>4</th>\n",
              "      <td>5</td>\n",
              "      <td>4</td>\n",
              "      <td>0.0</td>\n",
              "      <td>0.0</td>\n",
              "      <td>94</td>\n",
              "      <td>85</td>\n",
              "      <td>55</td>\n",
              "      <td>93</td>\n",
              "      <td>83</td>\n",
              "      <td>88</td>\n",
              "      <td>...</td>\n",
              "      <td>94</td>\n",
              "      <td>83</td>\n",
              "      <td>89</td>\n",
              "      <td>68</td>\n",
              "      <td>65</td>\n",
              "      <td>53</td>\n",
              "      <td>15</td>\n",
              "      <td>13</td>\n",
              "      <td>5</td>\n",
              "      <td>10</td>\n",
              "    </tr>\n",
              "  </tbody>\n",
              "</table>\n",
              "<p>5 rows × 37 columns</p>\n",
              "</div>\n",
              "      <button class=\"colab-df-convert\" onclick=\"convertToInteractive('df-6e96ff37-92b7-47a9-ad10-7a624a2c7973')\"\n",
              "              title=\"Convert this dataframe to an interactive table.\"\n",
              "              style=\"display:none;\">\n",
              "        \n",
              "  <svg xmlns=\"http://www.w3.org/2000/svg\" height=\"24px\"viewBox=\"0 0 24 24\"\n",
              "       width=\"24px\">\n",
              "    <path d=\"M0 0h24v24H0V0z\" fill=\"none\"/>\n",
              "    <path d=\"M18.56 5.44l.94 2.06.94-2.06 2.06-.94-2.06-.94-.94-2.06-.94 2.06-2.06.94zm-11 1L8.5 8.5l.94-2.06 2.06-.94-2.06-.94L8.5 2.5l-.94 2.06-2.06.94zm10 10l.94 2.06.94-2.06 2.06-.94-2.06-.94-.94-2.06-.94 2.06-2.06.94z\"/><path d=\"M17.41 7.96l-1.37-1.37c-.4-.4-.92-.59-1.43-.59-.52 0-1.04.2-1.43.59L10.3 9.45l-7.72 7.72c-.78.78-.78 2.05 0 2.83L4 21.41c.39.39.9.59 1.41.59.51 0 1.02-.2 1.41-.59l7.78-7.78 2.81-2.81c.8-.78.8-2.07 0-2.86zM5.41 20L4 18.59l7.72-7.72 1.47 1.35L5.41 20z\"/>\n",
              "  </svg>\n",
              "      </button>\n",
              "      \n",
              "  <style>\n",
              "    .colab-df-container {\n",
              "      display:flex;\n",
              "      flex-wrap:wrap;\n",
              "      gap: 12px;\n",
              "    }\n",
              "\n",
              "    .colab-df-convert {\n",
              "      background-color: #E8F0FE;\n",
              "      border: none;\n",
              "      border-radius: 50%;\n",
              "      cursor: pointer;\n",
              "      display: none;\n",
              "      fill: #1967D2;\n",
              "      height: 32px;\n",
              "      padding: 0 0 0 0;\n",
              "      width: 32px;\n",
              "    }\n",
              "\n",
              "    .colab-df-convert:hover {\n",
              "      background-color: #E2EBFA;\n",
              "      box-shadow: 0px 1px 2px rgba(60, 64, 67, 0.3), 0px 1px 3px 1px rgba(60, 64, 67, 0.15);\n",
              "      fill: #174EA6;\n",
              "    }\n",
              "\n",
              "    [theme=dark] .colab-df-convert {\n",
              "      background-color: #3B4455;\n",
              "      fill: #D2E3FC;\n",
              "    }\n",
              "\n",
              "    [theme=dark] .colab-df-convert:hover {\n",
              "      background-color: #434B5C;\n",
              "      box-shadow: 0px 1px 3px 1px rgba(0, 0, 0, 0.15);\n",
              "      filter: drop-shadow(0px 1px 2px rgba(0, 0, 0, 0.3));\n",
              "      fill: #FFFFFF;\n",
              "    }\n",
              "  </style>\n",
              "\n",
              "      <script>\n",
              "        const buttonEl =\n",
              "          document.querySelector('#df-6e96ff37-92b7-47a9-ad10-7a624a2c7973 button.colab-df-convert');\n",
              "        buttonEl.style.display =\n",
              "          google.colab.kernel.accessAllowed ? 'block' : 'none';\n",
              "\n",
              "        async function convertToInteractive(key) {\n",
              "          const element = document.querySelector('#df-6e96ff37-92b7-47a9-ad10-7a624a2c7973');\n",
              "          const dataTable =\n",
              "            await google.colab.kernel.invokeFunction('convertToInteractive',\n",
              "                                                     [key], {});\n",
              "          if (!dataTable) return;\n",
              "\n",
              "          const docLinkHtml = 'Like what you see? Visit the ' +\n",
              "            '<a target=\"_blank\" href=https://colab.research.google.com/notebooks/data_table.ipynb>data table notebook</a>'\n",
              "            + ' to learn more about interactive tables.';\n",
              "          element.innerHTML = '';\n",
              "          dataTable['output_type'] = 'display_data';\n",
              "          await google.colab.output.renderOutput(dataTable, element);\n",
              "          const docLink = document.createElement('div');\n",
              "          docLink.innerHTML = docLinkHtml;\n",
              "          element.appendChild(docLink);\n",
              "        }\n",
              "      </script>\n",
              "    </div>\n",
              "  </div>\n",
              "  "
            ]
          },
          "metadata": {},
          "execution_count": 10
        }
      ]
    },
    {
      "cell_type": "markdown",
      "source": [
        "## Splitting Dataset into Training and Test set"
      ],
      "metadata": {
        "id": "fS2qmfOYFZcc"
      }
    },
    {
      "cell_type": "code",
      "source": [
        "from sklearn.model_selection import train_test_split\n",
        "X_train, X_test, y_train, y_test = train_test_split(X, y, test_size = 0.2, random_state = 1)"
      ],
      "metadata": {
        "id": "8jMdYil_Fd82"
      },
      "execution_count": null,
      "outputs": []
    },
    {
      "cell_type": "markdown",
      "source": [
        "## Feature Scaling "
      ],
      "metadata": {
        "id": "jc57mBntE-iL"
      }
    },
    {
      "cell_type": "code",
      "source": [
        "from sklearn.preprocessing import StandardScaler\n",
        "sc_X = StandardScaler()\n",
        "sc_y = StandardScaler()\n",
        "\n",
        "#Scaling features and target \n",
        "X_train = sc_X.fit_transform(X_train)\n",
        "y_train = sc_y.fit_transform(y_train)\n",
        "\n",
        "#Transform test set\n",
        "X_test = sc_X.transform(X_test)\n",
        "y_test = sc_y.transform(y_test)"
      ],
      "metadata": {
        "id": "r8S9OwiYFTvg"
      },
      "execution_count": null,
      "outputs": []
    },
    {
      "cell_type": "markdown",
      "source": [
        "## Feature Selection"
      ],
      "metadata": {
        "id": "a564j3EdFqZ4"
      }
    },
    {
      "cell_type": "markdown",
      "source": [
        "##### Rcursive Feature Elimination(RFE) cannot be used for SVR.RFE operates by fitting its estimator and then eliminating the worst feature(s), and recursing. \n",
        "##### The \"worst\" feature(s) are determined by using feature importance from the model, by default using either coef_ or feature_importances_"
      ],
      "metadata": {
        "id": "BDWpr6Q9F3ct"
      }
    },
    {
      "cell_type": "code",
      "source": [
        "# Using Variance threshold for reducing features\n",
        "print(\"Shape of train set before applying Variance Threshold:\", X_train.shape)\n",
        "\n",
        "#Initialization of Variance threshold\n",
        "from sklearn.feature_selection import VarianceThreshold\n",
        "selector = VarianceThreshold()\n",
        "\n",
        "#Fitting and transforming the train set\n",
        "X_train = selector.fit_transform(X_train)\n",
        "\n",
        "print(\"Shape of train set after applying Variance Threshold:\", X_train.shape)\n",
        "\n",
        "# This didn't reduced features"
      ],
      "metadata": {
        "colab": {
          "base_uri": "https://localhost:8080/"
        },
        "id": "xsYdDp9kE1DH",
        "outputId": "b599cc30-a3b2-4e52-9893-23a4977216df"
      },
      "execution_count": null,
      "outputs": [
        {
          "output_type": "stream",
          "name": "stdout",
          "text": [
            "Shape of train set before applying Variance Threshold: (14756, 37)\n",
            "Shape of train set after applying Variance Threshold: (14756, 37)\n"
          ]
        }
      ]
    },
    {
      "cell_type": "markdown",
      "source": [
        "### Applying PCA for dimensionality Reduction"
      ],
      "metadata": {
        "id": "wkQM2xh2GaRl"
      }
    },
    {
      "cell_type": "code",
      "source": [
        "from sklearn.decomposition import PCA\n",
        "pca = PCA(n_components = 30) #After using different numbers for components, 30 was the best parameter for accuracy\n",
        "X_train = pca.fit_transform(X_train)\n",
        "X_test = pca.transform(X_test)"
      ],
      "metadata": {
        "id": "lRz1ZcbGGI4Q"
      },
      "execution_count": null,
      "outputs": []
    },
    {
      "cell_type": "markdown",
      "source": [
        "## Training datasets on SVR model"
      ],
      "metadata": {
        "id": "7cEZZ1ZdKXCX"
      }
    },
    {
      "cell_type": "markdown",
      "source": [
        "### Using GridSearchCV for determining best paarmeters for model and cross validation"
      ],
      "metadata": {
        "id": "O8YGm9EXKc9J"
      }
    },
    {
      "cell_type": "code",
      "source": [
        "#Initlializing model\n",
        "from sklearn.svm import SVR # non-linear\n",
        "regressor = SVR(kernel = 'rbf') \n",
        "\n",
        "\n",
        "from sklearn.model_selection import GridSearchCV\n",
        "\n",
        "#Initializing different parameters that will be used in grid search \n",
        "parameters = [{'C':[1], 'kernel':['rbf'], 'gamma':['scale'], 'epsilon':[0.15,0.2,0.25,0.3]}]\n",
        "'''\n",
        "Before using this below parameters were used to accuracy for each kernel: 'linear','poly','rbf','sigmoid' \n",
        "{'C':[0.25, 0.5, 0.75, 1],'gamma':['scale', 'auto'], 'epsilon':[0.2,0.5,0.7,1]}\n",
        "'''\n",
        "\n",
        "grid_search = GridSearchCV(estimator=regressor, \n",
        "                           param_grid=parameters,\n",
        "                           scoring='r2',  #scoring method will be R square\n",
        "                           cv=10,         #ten sets for cross validation\n",
        "                           n_jobs=-1)     #n_jobs=-1 will use all the available processors\n",
        "\n",
        "#Fitting it on train set\n",
        "grid_search.fit(X_train, y_train)\n",
        "\n",
        "best_accuracy = grid_search.best_score_\n",
        "best_parameters = grid_search.best_params_\n",
        "print(\"Best Accuracy: {:.2f} %\".format(best_accuracy*100))\n",
        "print(\"Best Parameters:\",best_parameters)"
      ],
      "metadata": {
        "colab": {
          "base_uri": "https://localhost:8080/"
        },
        "id": "z2UybPV7Gt57",
        "outputId": "94746563-6efd-48d5-dbb0-0852e4e936ef"
      },
      "execution_count": null,
      "outputs": [
        {
          "output_type": "stream",
          "name": "stderr",
          "text": [
            "/usr/local/lib/python3.7/dist-packages/sklearn/utils/validation.py:993: DataConversionWarning: A column-vector y was passed when a 1d array was expected. Please change the shape of y to (n_samples, ), for example using ravel().\n",
            "  y = column_or_1d(y, warn=True)\n"
          ]
        },
        {
          "output_type": "stream",
          "name": "stdout",
          "text": [
            "Best Accuracy: 87.49 %\n",
            "Best Parameters: {'C': 1, 'epsilon': 0.2, 'gamma': 'scale', 'kernel': 'rbf'}\n"
          ]
        }
      ]
    },
    {
      "cell_type": "code",
      "source": [
        "#Testing model on test set \n",
        "\n",
        "#Initialization and fitting the model to train set\n",
        "regressor = SVR(kernel='rbf', C=1, epsilon=0.2, gamma='scale')\n",
        "regressor.fit(X_train, y_train)\n",
        "\n",
        "#prediciton for test set\n",
        "y_pred = regressor.predict(X_test)\n",
        "\n",
        "#R sqaure for goodness of fit \n",
        "from sklearn.metrics import r2_score\n",
        "r2_score(y_test, y_pred)"
      ],
      "metadata": {
        "colab": {
          "base_uri": "https://localhost:8080/"
        },
        "id": "Jx9N8cHfKrYU",
        "outputId": "2902031b-57df-4ebc-895a-c16229822a52"
      },
      "execution_count": null,
      "outputs": [
        {
          "output_type": "stream",
          "name": "stderr",
          "text": [
            "/usr/local/lib/python3.7/dist-packages/sklearn/utils/validation.py:993: DataConversionWarning: A column-vector y was passed when a 1d array was expected. Please change the shape of y to (n_samples, ), for example using ravel().\n",
            "  y = column_or_1d(y, warn=True)\n"
          ]
        },
        {
          "output_type": "execute_result",
          "data": {
            "text/plain": [
              "0.8719087736062177"
            ]
          },
          "metadata": {},
          "execution_count": 175
        }
      ]
    },
    {
      "cell_type": "code",
      "source": [
        "plt.figure(figsize=(10,10))\n",
        "plt.scatter(y_test, y_pred, c='crimson')\n",
        "plt.yscale('log')\n",
        "plt.xscale('log')\n",
        "\n",
        "p1 = max(max(y_pred), max(y_test))\n",
        "p2 = min(min(y_pred), min(y_test))\n",
        "plt.plot([p1, p2], [p1, p2], 'b-')\n",
        "plt.xlabel('True Values', fontsize=15)\n",
        "plt.ylabel('Predictions', fontsize=15)\n",
        "plt.axis('equal')\n",
        "plt.show()\n"
      ],
      "metadata": {
        "colab": {
          "base_uri": "https://localhost:8080/",
          "height": 614
        },
        "id": "yV0RtpnhL7KP",
        "outputId": "3dee7c37-a398-49f9-da29-566c71c738b0"
      },
      "execution_count": null,
      "outputs": [
        {
          "output_type": "display_data",
          "data": {
            "text/plain": [
              "<Figure size 720x720 with 1 Axes>"
            ],
            "image/png": "[encoded data removed]"
          },
          "metadata": {
            "needs_background": "light"
          }
        }
      ]
    },
    {
      "cell_type": "markdown",
      "source": [
        "## Training dataset on other models"
      ],
      "metadata": {
        "id": "hCa-VyV-Y3Zk"
      }
    },
    {
      "cell_type": "markdown",
      "source": [
        "#### Multi LinearRegression"
      ],
      "metadata": {
        "id": "TGrXGUPRZFKu"
      }
    },
    {
      "cell_type": "code",
      "source": [
        "from sklearn.linear_model import LinearRegression\n",
        "from sklearn.model_selection import GridSearchCV\n",
        "\n",
        "regressor = LinearRegression(fit_intercept=True)\n",
        "regressor.fit(X_train, y_train)\n",
        "\n",
        "y_pred = regressor.predict(X_test)\n",
        "\n",
        "y_pred = y_pred.round(1)\n",
        "\n",
        "from sklearn.metrics import r2_score\n",
        "\n",
        "r2_score(y_test, y_pred)"
      ],
      "metadata": {
        "colab": {
          "base_uri": "https://localhost:8080/"
        },
        "id": "p4VVlXNPZAKK",
        "outputId": "8cad14a8-f8f9-4493-9743-3941bf3597e4"
      },
      "execution_count": null,
      "outputs": [
        {
          "output_type": "execute_result",
          "data": {
            "text/plain": [
              "0.7410960318220245"
            ]
          },
          "metadata": {},
          "execution_count": 12
        }
      ]
    },
    {
      "cell_type": "markdown",
      "source": [
        "#### Polynomial regression"
      ],
      "metadata": {
        "id": "wgBEYHjnZkyW"
      }
    },
    {
      "cell_type": "code",
      "source": [
        "from sklearn.preprocessing import PolynomialFeatures\n",
        "from sklearn.linear_model import LinearRegression\n",
        "\n",
        "poly_reg = PolynomialFeatures(degree = 3)\n",
        "X_poly = poly_reg.fit_transform(X)\n",
        "\n",
        "lin_reg2 = LinearRegression()\n",
        "lin_reg2.fit(X_poly, y)\n",
        "\n",
        "y_pred = regressor.predict(X_test)\n",
        "\n",
        "from sklearn.metrics import r2_score\n",
        "r2_score(y_test, y_pred)"
      ],
      "metadata": {
        "colab": {
          "base_uri": "https://localhost:8080/"
        },
        "id": "PHE0ohX3Zfyo",
        "outputId": "1554549d-9eed-4ccb-87d8-c308ab2e3ccc"
      },
      "execution_count": null,
      "outputs": [
        {
          "output_type": "execute_result",
          "data": {
            "text/plain": [
              "0.8462361683693548"
            ]
          },
          "metadata": {},
          "execution_count": 17
        }
      ]
    },
    {
      "cell_type": "markdown",
      "source": [
        "#### Decision Tree"
      ],
      "metadata": {
        "id": "lX0nz4xyZleP"
      }
    },
    {
      "cell_type": "code",
      "source": [
        "from sklearn.tree import DecisionTreeRegressor\n",
        "regressor = DecisionTreeRegressor(random_state=0) \n",
        "\n",
        "regressor.fit(X_train, y_train)\n",
        "\n",
        "y_pred = regressor.predict(X_test)\n",
        "\n",
        "from sklearn.metrics import r2_score\n",
        "r2_score(y_test, y_pred)"
      ],
      "metadata": {
        "colab": {
          "base_uri": "https://localhost:8080/"
        },
        "id": "3YGHbHnBZl33",
        "outputId": "17c1f8bb-45fb-4c6d-8ed3-ee9efb7ca8b7"
      },
      "execution_count": null,
      "outputs": [
        {
          "output_type": "execute_result",
          "data": {
            "text/plain": [
              "0.6766732748646725"
            ]
          },
          "metadata": {},
          "execution_count": 13
        }
      ]
    },
    {
      "cell_type": "markdown",
      "source": [
        "#### Random Forest"
      ],
      "metadata": {
        "id": "QZl0PNcwZtrg"
      }
    },
    {
      "cell_type": "code",
      "source": [
        "from sklearn.ensemble import RandomForestRegressor\n",
        "regressor = RandomForestRegressor(n_estimators=40, random_state=0)\n",
        "regressor.fit(X_train, y_train)\n",
        "y_pred = regressor.predict(X_test)\n",
        "\n",
        "from sklearn.metrics import r2_score\n",
        "r2_score(y_test, y_pred)"
      ],
      "metadata": {
        "colab": {
          "base_uri": "https://localhost:8080/"
        },
        "id": "Rjh5Y_NAZuCM",
        "outputId": "fde93410-bf35-4f12-b95f-9e8d8ef274c2"
      },
      "execution_count": null,
      "outputs": [
        {
          "output_type": "stream",
          "name": "stderr",
          "text": [
            "/usr/local/lib/python3.7/dist-packages/ipykernel_launcher.py:3: DataConversionWarning: A column-vector y was passed when a 1d array was expected. Please change the shape of y to (n_samples,), for example using ravel().\n",
            "  This is separate from the ipykernel package so we can avoid doing imports until\n"
          ]
        },
        {
          "output_type": "execute_result",
          "data": {
            "text/plain": [
              "0.8462361683693548"
            ]
          },
          "metadata": {},
          "execution_count": 14
        }
      ]
    },
    {
      "cell_type": "markdown",
      "source": [
        "#### XGBoost"
      ],
      "metadata": {
        "id": "hzYRnUrbZyxl"
      }
    },
    {
      "cell_type": "code",
      "source": [
        "from xgboost import XGBClassifier\n",
        "classifier = XGBClassifier()\n",
        "classifier.fit(X_train, y_train)\n",
        "\n",
        "from sklearn.metrics import confusion_matrix, accuracy_score\n",
        "y_pred = classifier.predict(X_test)"
      ],
      "metadata": {
        "colab": {
          "base_uri": "https://localhost:8080/"
        },
        "id": "TZxNTfHIZy7p",
        "outputId": "6a0be315-90a9-4d1c-ad95-ce5b60e5283e"
      },
      "execution_count": null,
      "outputs": [
        {
          "output_type": "stream",
          "name": "stderr",
          "text": [
            "/usr/local/lib/python3.7/dist-packages/sklearn/preprocessing/_label.py:98: DataConversionWarning: A column-vector y was passed when a 1d array was expected. Please change the shape of y to (n_samples, ), for example using ravel().\n",
            "  y = column_or_1d(y, warn=True)\n",
            "/usr/local/lib/python3.7/dist-packages/sklearn/preprocessing/_label.py:133: DataConversionWarning: A column-vector y was passed when a 1d array was expected. Please change the shape of y to (n_samples, ), for example using ravel().\n",
            "  y = column_or_1d(y, warn=True)\n"
          ]
        }
      ]
    },
    {
      "cell_type": "code",
      "source": [
        "from sklearn.metrics import r2_score\n",
        "r2_score(y_test, y_pred)"
      ],
      "metadata": {
        "colab": {
          "base_uri": "https://localhost:8080/"
        },
        "id": "xQCSKwDAaL9p",
        "outputId": "ee6c4b00-3b0c-443e-d83b-3622b7f867e3"
      },
      "execution_count": null,
      "outputs": [
        {
          "output_type": "execute_result",
          "data": {
            "text/plain": [
              "0.7646182687853593"
            ]
          },
          "metadata": {},
          "execution_count": 16
        }
      ]
    }
  ]
}